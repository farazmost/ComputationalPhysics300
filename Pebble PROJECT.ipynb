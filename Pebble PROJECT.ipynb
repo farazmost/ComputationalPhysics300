{
 "cells": [
  {
   "cell_type": "markdown",
   "metadata": {},
   "source": [
    "# Propagation of a wave through water by dropping two pebbles\n",
    "We can drop two pebbles, given their positions in space (x1,y1) and (x2,y2), we can find the amplitude of the resulting wave they create by adding each individual amplitudes of each pebble found by:\n",
    "$$ A(r,t) = A_0 * sin(k\\mathbf r + \\omega \\mathbf t )$$\n",
    "So the superpositioning of the waves would be:\n",
    "$$ A_T(r,t) = A_1 +A_2$$\n",
    "Resulting in:\n",
    "$$ A_T(r,t) = A_0 (sin(k\\mathbf r_1 + \\omega \\mathbf t) + sin(k\\mathbf r_2 + \\omega \\mathbf t)) $$\n",
    "where we have:\n",
    "$$ r_1 = \\sqrt {(x-x_1)^{2} + (y-y_1)^{2}}$$\n",
    "$$ r_2 = \\sqrt {(x-x_2)^{2} + (y-y_2)^{2}}$$"
   ]
  },
  {
   "cell_type": "code",
   "execution_count": 6,
   "metadata": {},
   "outputs": [
    {
     "data": {
      "application/vnd.jupyter.widget-view+json": {
       "model_id": "d8e640fc846f4b669ba87d1efef24c41",
       "version_major": 2,
       "version_minor": 0
      },
      "text/plain": [
       "interactive(children=(IntSlider(value=5, description='Wavelength', min=1), IntSlider(value=10, description='Pe…"
      ]
     },
     "metadata": {},
     "output_type": "display_data"
    }
   ],
   "source": [
    "%matplotlib inline\n",
    "from matplotlib import animation, rc\n",
    "from ipywidgets import interact, interactive, fixed, interact_manual,Layout,HBox\n",
    "from IPython.display import display\n",
    "import ipywidgets as widgets\n",
    "from IPython.display import HTML\n",
    "from math import sqrt,sin,pi\n",
    "from numpy import empty\n",
    "import matplotlib.pyplot as plt\n",
    "import random\n",
    "import time\n",
    "\"\"\"\n",
    "First we define our box with set parameters where:\n",
    "x10: amplitude of our waves\n",
    "side: side of our square or pond we are dropping the two pebbles in\n",
    "points: number of points we want to carry our wave (number of medium points)\n",
    "spacing: spacing between those points defined above\n",
    "\"\"\"\n",
    "xi0 = 1.0\n",
    "side = 100.0          \n",
    "points = 1000       \n",
    "spacing = side/points  \n",
    "\n",
    "\"\"\"\n",
    "We define our widgets within our Jupyter Notebook,\n",
    "we define 6 sliders where the first two are properties of our wave (wavelength and period),\n",
    "second two are the coordinates of the first pebble (x1,y1) and the last two are the coordinates of the \n",
    "second pebble (x2,y2)\n",
    "\n",
    "The interact_manual code calls the F function below with the parameters defined by the sliders. \n",
    "\"\"\"\n",
    "\n",
    "    \n",
    "w = interact_manual(f, \n",
    "                    \n",
    "Wavelength=widgets.IntSlider(min=1, max=100, step=1, value=5),\n",
    "Period=widgets.IntSlider(min=1, max=50, step=1, value=10),\n",
    "x1=widgets.IntSlider(min=0, max=side, step=1, value=random.random()*side,description=r'\\(x_1\\)'), \n",
    "y1=widgets.IntSlider(min=0, max=side, step=1, value=random.random()*side,description=r'\\(y_1\\)'), \n",
    "x2=widgets.IntSlider(min=0, max=side, step=1, value=random.random()*side,description=r'\\(x_2\\)'),\n",
    "y2=widgets.IntSlider(min=0, max=side, step=1, value=random.random()*side,description=r'\\(y_1\\)')\n",
    "                    \n",
    "                   )\n",
    "\n",
    "\n",
    "\"\"\"\n",
    "We define our F function to be called upon from our interact_manual code\n",
    "\"\"\"\n",
    "def f(Wavelength,Period,x1, y1,x2,y2):\n",
    "    t0 = time.perf_counter() # time start\n",
    "    k = 2*pi/Wavelength #define the wave constant\n",
    "    w0 = 2*pi/ Period   #define the angular frequency \n",
    "    fig = plt.figure(figsize=[16,16]) #make a figure for our mathplotlib\n",
    "    ims = [] # list to store our images to be later compiled into our video\n",
    "    \n",
    "    for t in range(Period):\n",
    "        xi = empty([points,points],float) #xi is a list of amplitudes at a given (x,y)\n",
    "        for i in range(points):\n",
    "            y = spacing*i\n",
    "            for j in range(points):\n",
    "                x = spacing*j\n",
    "                r1 = sqrt((x-x1)**2+(y-y1)**2)\n",
    "                r2 = sqrt((x-x2)**2+(y-y2)**2)\n",
    "                xi[i,j] = xi0*sin(k*r1+w0*t) + xi0*sin(k*r2+w0*t)\n",
    "                \n",
    "        im = plt.imshow(xi,origin=\"lower\",extent=[0,side,0,side],cmap= 'afmhot')\n",
    "        ims.append([im])\n",
    "    plt.colorbar(im,orientation='horizontal')\n",
    "    \n",
    "    anim = animation.ArtistAnimation(fig, ims, blit=True, repeat=True)\n",
    "    anim.save('Vibe Check.mp4')\n",
    "   \n",
    "    \n",
    "    print(\"DONE!\")\n",
    "    t1 = time.perf_counter() # time end\n",
    "    t = t1 - t0\n",
    "    print(\"Time it took:\",t,\"!\")\n",
    "    #HTML(anim.to_html5_video())\n",
    "    return \n",
    "\n",
    "\n",
    "\n",
    "\n",
    "\n",
    "\n"
   ]
  },
  {
   "cell_type": "code",
   "execution_count": null,
   "metadata": {},
   "outputs": [],
   "source": []
  },
  {
   "cell_type": "code",
   "execution_count": 7,
   "metadata": {},
   "outputs": [
    {
     "data": {
      "text/html": [
       "<div>\n",
       "    <img src=\"Vibe Check.mp4\">\n",
       "    \n",
       "</div>"
      ],
      "text/plain": [
       "<IPython.core.display.HTML object>"
      ]
     },
     "execution_count": 7,
     "metadata": {},
     "output_type": "execute_result"
    }
   ],
   "source": [
    "from IPython.display import display, HTML\n",
    "\n",
    "HTML('''<div>\n",
    "    <img src=\"Vibe Check.mp4\">\n",
    "    \n",
    "</div>''')"
   ]
  },
  {
   "cell_type": "code",
   "execution_count": null,
   "metadata": {},
   "outputs": [],
   "source": []
  },
  {
   "cell_type": "code",
   "execution_count": null,
   "metadata": {},
   "outputs": [],
   "source": []
  },
  {
   "cell_type": "code",
   "execution_count": null,
   "metadata": {},
   "outputs": [],
   "source": []
  },
  {
   "cell_type": "code",
   "execution_count": null,
   "metadata": {},
   "outputs": [],
   "source": []
  }
 ],
 "metadata": {
  "kernelspec": {
   "display_name": "Python 3",
   "language": "python",
   "name": "python3"
  },
  "language_info": {
   "codemirror_mode": {
    "name": "ipython",
    "version": 3
   },
   "file_extension": ".py",
   "mimetype": "text/x-python",
   "name": "python",
   "nbconvert_exporter": "python",
   "pygments_lexer": "ipython3",
   "version": "3.7.3"
  }
 },
 "nbformat": 4,
 "nbformat_minor": 2
}
