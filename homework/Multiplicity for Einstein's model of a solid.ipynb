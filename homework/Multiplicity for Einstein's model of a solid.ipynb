{
 "cells": [
  {
   "cell_type": "code",
   "execution_count": 2,
   "metadata": {},
   "outputs": [
    {
     "name": "stdout",
     "output_type": "stream",
     "text": [
      "Type Number of Oscillations: N=2\n",
      "Units of Energy within number of Ocsillators. q=1\n",
      "Multiplicity for 1 units of energy among 2 number of oscillators is: 2\n"
     ]
    }
   ],
   "source": [
    "def factorial(x):\n",
    "    if x==1 or x==0:\n",
    "        return 1\n",
    "    else:\n",
    "        xfactorial = 1\n",
    "        for i in range (2,x+1):\n",
    "            xfactorial = xfactorial * i\n",
    "        return xfactorial \n",
    "\n",
    "\n",
    "good_N = False\n",
    "while good_N is False:\n",
    "    N=int(input(\"Type Number of Oscillations: N=\"))\n",
    "    if N <= 0:\n",
    "        print(\"N must be a non-zero positive integer, please enter another number:\")\n",
    "    else:\n",
    "        good_N = True\n",
    "good_q = False\n",
    "while good_q is False:\n",
    "    q=int(input(\"Units of Energy within number of Ocsillators. q=\"))\n",
    "    if q < 0:\n",
    "        print(\"q must be a positive integer, please enter another number:\")\n",
    "    else:\n",
    "        good_q = True\n",
    "def Multi(N,q):\n",
    "    return factorial(N+q-1)/factorial(N-1)/factorial(q)\n",
    "print (\"Multiplicity for\", q , \"units of energy among\", N , \"number of oscillators is:\", int(Multi(N,q)))\n",
    "        "
   ]
  },
  {
   "cell_type": "code",
   "execution_count": 1,
   "metadata": {},
   "outputs": [
    {
     "name": "stdout",
     "output_type": "stream",
     "text": [
      "/Users/farazmost\n"
     ]
    }
   ],
   "source": [
    "import os\n",
    "print(os.getcwd())"
   ]
  },
  {
   "cell_type": "code",
   "execution_count": null,
   "metadata": {},
   "outputs": [],
   "source": []
  }
 ],
 "metadata": {
  "kernelspec": {
   "display_name": "Python 3",
   "language": "python",
   "name": "python3"
  },
  "language_info": {
   "codemirror_mode": {
    "name": "ipython",
    "version": 3
   },
   "file_extension": ".py",
   "mimetype": "text/x-python",
   "name": "python",
   "nbconvert_exporter": "python",
   "pygments_lexer": "ipython3",
   "version": "3.7.3"
  }
 },
 "nbformat": 4,
 "nbformat_minor": 4
}
