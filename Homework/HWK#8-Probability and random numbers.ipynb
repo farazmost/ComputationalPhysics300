{
 "cells": [
  {
   "cell_type": "markdown",
   "metadata": {},
   "source": [
    "## HOMEWORK FOR PREVIOUS WEEK (10/14/2019)\n",
    "This part of HW wasnt taught in full until this week therefore will be linked onto this weeks HW file (HW#8)"
   ]
  },
  {
   "cell_type": "code",
   "execution_count": 17,
   "metadata": {},
   "outputs": [
    {
     "data": {
      "image/png": "[encoded data removed]",
      "text/plain": [
       "<Figure size 432x288 with 1 Axes>"
      ]
     },
     "metadata": {
      "needs_background": "light"
     },
     "output_type": "display_data"
    }
   ],
   "source": [
    "#graph the function and compare the weighted functions appropriateness\n",
    "f = lambda x: 1/x/(np.exp(x)+1)\n",
    "w = lambda x: 1/x\n",
    "\n",
    "x = np.linspace(0,1,100)\n",
    "plt.plot(x[1:], f(x[1:]), label='$f(x)$') # start w/ 2nd element \n",
    "plt.plot(x[1:], w(x[1:]), label='$w(x)$') # to avoid div. by 0\n",
    "plt.title(\"Comparison of Integrand & Weighting Function\")\n",
    "plt.xlabel(\"$x$\")\n",
    "plt.legend()\n",
    "plt.show()"
   ]
  },
  {
   "cell_type": "markdown",
   "metadata": {},
   "source": [
    "In order to find the probability function P(x), we need to integrate the weighted function W(x) from [0,1]. The problem arises where the integral is divergent due to ln(0) being undefined\n",
    "\n",
    "To try to work around this problem, we try to integrate as close as possible to 0 using SciPy:"
   ]
  },
  {
   "cell_type": "code",
   "execution_count": 18,
   "metadata": {},
   "outputs": [
    {
     "name": "stderr",
     "output_type": "stream",
     "text": [
      "/Users/farazmost/anaconda3/lib/python3.7/site-packages/ipykernel_launcher.py:3: IntegrationWarning: The maximum number of subdivisions (50) has been achieved.\n",
      "  If increasing the limit yields no improvement it is advised to analyze \n",
      "  the integrand in order to determine the difficulties.  If the position of a \n",
      "  local difficulty can be determined (singularity, discontinuity) one will \n",
      "  probably gain from splitting up the interval and calling the integrator \n",
      "  on the subranges.  Perhaps a special-purpose integrator should be used.\n",
      "  This is separate from the ipykernel package so we can avoid doing imports until\n"
     ]
    }
   ],
   "source": [
    "from scipy.integrate import quad\n",
    "a = 1e-16 \n",
    "c = quad(w, a, 1)[0]"
   ]
  },
  {
   "cell_type": "markdown",
   "metadata": {},
   "source": [
    "now, the probability function can be defined as: \n",
    "$$ P(x) = \\frac{w(x)}{\\int_a^b w(x)dx}=\\frac{x^{-1}}{c} $$\n",
    "\n",
    "now the cumulative probablity function can be found:\n",
    "$$F(x)=\\int_a^x p(x)dx= \\frac{1}{c}[ln(x)-ln(a)]$$\n",
    "\n",
    "therefore the inverse cumulative function can be found:\n",
    "$$F^{-1}(x)=e^{cx+ln(a)}$$"
   ]
  },
  {
   "cell_type": "code",
   "execution_count": 22,
   "metadata": {},
   "outputs": [],
   "source": [
    "#from previous HW. See Hwk#7\n",
    "from scipy.integrate import quad\n",
    "from random import random\n",
    "def Importantsampling(f, w, F_inv, a, b, N):\n",
    "    \n",
    "    #we find the intergral of the weighted function using the quad method \n",
    "   # intgralw = quad(w, a, b)[0]\n",
    "    #find the width of our domain in order to create random points within our domain of interest\n",
    "    width = b - a\n",
    "    I = 0\n",
    "    \n",
    "    for i in range(N):\n",
    "        #generate random points within our domain\n",
    "        integralw = quad(w, a, b)[0]\n",
    "        x = width*random() + a\n",
    "        y = F_inv(x)\n",
    "        I += f(y)/w(y)\n",
    "        \n",
    "    return I/N*integralw"
   ]
  },
  {
   "cell_type": "code",
   "execution_count": 30,
   "metadata": {},
   "outputs": [
    {
     "name": "stderr",
     "output_type": "stream",
     "text": [
      "/Users/farazmost/anaconda3/lib/python3.7/site-packages/ipykernel_launcher.py:14: IntegrationWarning: The maximum number of subdivisions (50) has been achieved.\n",
      "  If increasing the limit yields no improvement it is advised to analyze \n",
      "  the integrand in order to determine the difficulties.  If the position of a \n",
      "  local difficulty can be determined (singularity, discontinuity) one will \n",
      "  probably gain from splitting up the interval and calling the integrator \n",
      "  on the subranges.  Perhaps a special-purpose integrator should be used.\n",
      "  \n"
     ]
    },
    {
     "name": "stdout",
     "output_type": "stream",
     "text": [
      "I[a, 1] ≈ 18.17023807307873\n"
     ]
    }
   ],
   "source": [
    "from math import e, log\n",
    "\n",
    "ln_a = log(a)\n",
    "F_inv = lambda x: pow(e, (c*x+ln_a))\n",
    "\n",
    "print(\"I[a, 1] ≈\",  Importantsampling(f, w, F_inv, a, 1, 20000))"
   ]
  },
  {
   "cell_type": "code",
   "execution_count": 29,
   "metadata": {},
   "outputs": [
    {
     "name": "stdout",
     "output_type": "stream",
     "text": [
      "From SciPy: I ≈ 18.177236466242032\n"
     ]
    },
    {
     "name": "stderr",
     "output_type": "stream",
     "text": [
      "/Users/farazmost/anaconda3/lib/python3.7/site-packages/ipykernel_launcher.py:1: IntegrationWarning: The maximum number of subdivisions (50) has been achieved.\n",
      "  If increasing the limit yields no improvement it is advised to analyze \n",
      "  the integrand in order to determine the difficulties.  If the position of a \n",
      "  local difficulty can be determined (singularity, discontinuity) one will \n",
      "  probably gain from splitting up the interval and calling the integrator \n",
      "  on the subranges.  Perhaps a special-purpose integrator should be used.\n",
      "  \"\"\"Entry point for launching an IPython kernel.\n"
     ]
    }
   ],
   "source": [
    "print(\"From SciPy: I ≈\", quad(f, a, 1)[0])"
   ]
  },
  {
   "cell_type": "markdown",
   "metadata": {},
   "source": [
    "## HOMEWORK FOR THIS WEEK (10/21/2019)"
   ]
  },
  {
   "cell_type": "code",
   "execution_count": 7,
   "metadata": {},
   "outputs": [
    {
     "name": "stdout",
     "output_type": "stream",
     "text": [
      "dice #1: 6\n",
      "dice #2: 2\n"
     ]
    }
   ],
   "source": [
    "#generate two random numbers \n",
    "import numpy as np\n",
    "a=np.random.randint(1,7)\n",
    "b=np.random.randint(1,7)\n",
    "\n",
    "print(\"dice #1:\",a)\n",
    "print(\"dice #2:\",b)\n"
   ]
  },
  {
   "cell_type": "code",
   "execution_count": 8,
   "metadata": {},
   "outputs": [
    {
     "name": "stdout",
     "output_type": "stream",
     "text": [
      "Total number of rolls: 1000000\n",
      "Number of double 6's is: 27806\n",
      "Probability of rolling double 6's is: 2.7806 %\n"
     ]
    }
   ],
   "source": [
    "#role the dice N number of times \n",
    "import numpy as np\n",
    "N0=1000000\n",
    "d=[]\n",
    "count=0\n",
    "for i in range(N0):\n",
    "    a=np.random.randint(1,7)\n",
    "    b=np.random.randint(1,7)\n",
    "    if (a==6)&(b==6):\n",
    "        count= count+1\n",
    "    c=[a,b]\n",
    "    d.append(c)\n",
    "#print(d)  \n",
    "print(\"Total number of rolls:\",N0)\n",
    "print(\"Number of double 6's is:\",count)\n",
    "print(\"Probability of rolling double 6's is:\",count/N0*100,\"%\")\n",
    "    "
   ]
  },
  {
   "cell_type": "code",
   "execution_count": 9,
   "metadata": {},
   "outputs": [
    {
     "name": "stdout",
     "output_type": "stream",
     "text": [
      "[-5, -3, 0, -5, 1, -2, 3, -5, 0, -1]\n"
     ]
    },
    {
     "data": {
      "image/png": "[encoded data removed]",
      "text/plain": [
       "<Figure size 432x288 with 1 Axes>"
      ]
     },
     "metadata": {
      "needs_background": "light"
     },
     "output_type": "display_data"
    },
    {
     "data": {
      "image/png": "[encoded data removed]",
      "text/plain": [
       "<Figure size 432x288 with 1 Axes>"
      ]
     },
     "metadata": {
      "needs_background": "light"
     },
     "output_type": "display_data"
    }
   ],
   "source": [
    "#generate random integers within [-5, 5], find the magic series of {a, c, m} \n",
    "%matplotlib inline\n",
    "import matplotlib.pyplot as plt\n",
    "import numpy as np\n",
    "import math\n",
    "\n",
    "N = 10000\n",
    "a = 7**7\n",
    "c = 1012\n",
    "m = 2**31 #4245035300\n",
    "x = 1\n",
    "results = []\n",
    "\n",
    "for i in range(N):      \n",
    "    x = (a*x+c)%m\n",
    "    results.append(x)\n",
    "results = [int(x/m*10)-5  for x in results]\n",
    "\n",
    "print(results[:10])\n",
    "plt.plot(results,\"o\")\n",
    "plt.show()\n",
    "\n",
    "plt.hist(results)\n",
    "plt.show()"
   ]
  },
  {
   "cell_type": "markdown",
   "metadata": {},
   "source": [
    "## Brownian motion animation .Gif creation "
   ]
  },
  {
   "cell_type": "code",
   "execution_count": 10,
   "metadata": {},
   "outputs": [
    {
     "name": "stderr",
     "output_type": "stream",
     "text": [
      "MovieWriter ffmpeg unavailable; trying to use <class 'matplotlib.animation.PillowWriter'> instead.\n"
     ]
    },
    {
     "data": {
      "image/png": "[encoded data removed]",
      "text/plain": [
       "<Figure size 864x864 with 1 Axes>"
      ]
     },
     "metadata": {
      "needs_background": "light"
     },
     "output_type": "display_data"
    }
   ],
   "source": [
    "#animation for Brownian motion\n",
    "%matplotlib inline\n",
    "from matplotlib import animation\n",
    "\n",
    "\n",
    "# Brownian Motion\n",
    "L1 = 101\n",
    "L2 = 101\n",
    "N = 450\n",
    "\n",
    "fig = plt.figure(figsize=[12, 12])\n",
    "ax = plt.axes(xlim=(0,L1), ylim=(0,L2))\n",
    "plt.title('Brownian Motion')\n",
    "coordinate, = ax.plot([], [], \"o\")\n",
    "\n",
    "x = int(L1/2)\n",
    "y = int(L2/2)\n",
    "position = [x, y]\n",
    "position1 = [0,0]\n",
    "direction = np.array([ [0, 1], [0, -1], [1, 0], [-1, 0] ])\n",
    "\n",
    "\n",
    "def init():\n",
    "    coordinate.set_data([], [])\n",
    "    return coordinate,\n",
    "\n",
    "\n",
    "def animate(i):\n",
    "    global position\n",
    "    position1 = [-1,-1]\n",
    "    while min(position1) < 0 or position1[0] > L1 or position1[1] > L2:\n",
    "        move = np.random.randint(len(direction))\n",
    "        position1 = position + direction[move]\n",
    "    position = position1\n",
    "    coordinate.set_data(position[0], position[1])\n",
    "    return coordinate,\n",
    "\n",
    "\n",
    "anim = animation.FuncAnimation(fig, animate, init_func=init,\n",
    "    frames=N, interval=15,repeat=False)\n",
    "\n",
    "anim.save('Movement.gif')"
   ]
  },
  {
   "cell_type": "markdown",
   "metadata": {},
   "source": [
    "## Probablilty (description from class below)"
   ]
  },
  {
   "cell_type": "markdown",
   "metadata": {},
   "source": [
    "As shown in the above, the probability that a atom decays in time $t$ is $1-2^{-t/\\tau}$, and hence the probability that it decays in a time interval $dt$ is\n",
    "$$1-2^{-dt/\\tau} = 1-\\exp(-\\frac{dt}{\\tau}\\text{ln}2) = \\frac{\\text{ln}2}{\\tau}dt$$\n",
    "\n",
    "Then we calculate the total probability of decaying an atom between $t$ and $t+dt$. In order to undergo such a decay,\n",
    "an atom must survive without decay until time $t$, which happens with $p=2^{-t/\\tau}$, and then decay in dt interval:\n",
    "\n",
    "$$P(t)dt = 2^{-t/\\tau}\\frac{\\text{ln}2}{\\tau}dt$$\n",
    "\n",
    "This is an example of non-uniform probability distribution. The decay times t are distributed in proportion to $2^{-t/\\tau}$, \n",
    "so that ealier decay times are more probable than late ones.\n",
    "\n",
    "A more efficient way to calculate the decay of a sample is to generate N random numbers from this non-uniform probability distribution, to represent the time at which each of the atom decays. Then creating curves as a function of time, is simply a matter of counting how many of the atoms decay before any given time.\n",
    "\n",
    "It is possible to generate non-uniform random numbers from a wide range of different distributions, including the exponential distribution, using the previous method. If you already have a source of uniform random numbers, one could turn them into nonuniform ones using some `transformation methods`.\n",
    "\n",
    "Suppose you have a source of random floating numbers z from a distribution with a probability of q(z). And supposed that you have a function x(z). Then when z is one of our random numbers, x(z) is also a random number, but it will have different distribution according to x(z). \n",
    "\n",
    "$$p(x)dx = q(z)dz$$\n",
    "$$\\int_{-\\infty}^{x(z)} p(x')dx' = \\int_0^z dz'=z$$\n",
    "\n",
    "As an example, suppose we want to integrate random real numbers x in the interval from zero to infinity with the exponential probability distribution\n",
    "\n",
    "$$p(x)=\\mu e^{-\\mu x}$$\n",
    "\n",
    "The leading factor of $\\mu$ is necessary to make the distribution properly normalized. This is the same distribution that in the radioactive decay problem above, where $\\mu=\\text{ln}2/\\tau$.\n",
    "\n",
    "For this distribution,\n",
    "$$\\mu \\int_0^{x(z)} e^{-\\mu x'} dx' = 1-e^{-\\mu x} = z$$\n",
    "\n",
    "Therefore,\n",
    "\n",
    "$$x = -\\frac{1}{\\mu}\\text{ln}(1-z)$$\n",
    "\n",
    "So all we need is to generate uniform random numbers z in the interval from zero to one and feed them into this equation to get exponentially distributed x values."
   ]
  },
  {
   "cell_type": "code",
   "execution_count": 11,
   "metadata": {},
   "outputs": [
    {
     "data": {
      "image/png": "[encoded data removed]",
      "text/plain": [
       "<Figure size 432x288 with 1 Axes>"
      ]
     },
     "metadata": {
      "needs_background": "light"
     },
     "output_type": "display_data"
    },
    {
     "data": {
      "image/png": "[encoded data removed]",
      "text/plain": [
       "<Figure size 432x288 with 1 Axes>"
      ]
     },
     "metadata": {
      "needs_background": "light"
     },
     "output_type": "display_data"
    }
   ],
   "source": [
    "# first generate and show the probability distribution P(x)\n",
    "tau = 3.053*60 # half-life of Thallium-208\n",
    "mu = np.log(2)/tau\n",
    "x = np.linspace(0, 1000, 100)\n",
    "P = mu*np.exp(-mu*x)\n",
    "\n",
    "plt.plot(x, P)\n",
    "plt.xlim(0, 1000)\n",
    "plt.show()\n",
    "\n",
    "#create random number generator following distribution\n",
    "N = 10000\n",
    "xvalues = []\n",
    "for i in range(N):    \n",
    "    z = np.random.random()\n",
    "    xvalues.append(-np.log(1-z)/mu)\n",
    "\n",
    "plt.hist(xvalues, 100)\n",
    "plt.xlim(0, 1000)\n",
    "plt.show()\n"
   ]
  },
  {
   "cell_type": "markdown",
   "metadata": {},
   "source": [
    "Now to graph the decay of thalium with the use of the newly randomly generated numbers following a non-uniform distrubution"
   ]
  },
  {
   "cell_type": "code",
   "execution_count": 12,
   "metadata": {},
   "outputs": [
    {
     "data": {
      "image/png": "[encoded data removed]",
      "text/plain": [
       "<Figure size 432x288 with 1 Axes>"
      ]
     },
     "metadata": {
      "needs_background": "light"
     },
     "output_type": "display_data"
    }
   ],
   "source": [
    "mu = np.log(2)/tau\n",
    "\n",
    "N_atom = 1000   # number of  Tl atoms\n",
    "N_time = 1000   # time spent in seconds\n",
    "\n",
    "N_Pb = np.zeros([N_time-1])  #array to store the number of decayed atoms each second \n",
    "N_Tl = N_atom * np.ones([N_time-1])  #array to store the number of decayed atoms each second\n",
    "\n",
    "for i in range(N_atom):    \n",
    "    z0 = np.random.random()\n",
    "    x0 = int(-np.log(1-z0)/mu) #the time to decay from random number\n",
    "    if x0<N_time:     \n",
    "        N_Pb[x0:] += 1  #increased lead due to decay\n",
    "        N_Tl[x0:] -= 1  #reduced Tl due to decay\n",
    "        \n",
    "plt.plot(N_Tl, label='Tl')\n",
    "plt.plot(N_Pb, label='Pb')\n",
    "plt.xlabel(\"Time (s)\")\n",
    "plt.ylabel(\"Number of atoms\")\n",
    "\n",
    "plt.legend()\n",
    "plt.show()"
   ]
  },
  {
   "cell_type": "code",
   "execution_count": null,
   "metadata": {},
   "outputs": [],
   "source": []
  }
 ],
 "metadata": {
  "kernelspec": {
   "display_name": "Python 3",
   "language": "python",
   "name": "python3"
  },
  "language_info": {
   "codemirror_mode": {
    "name": "ipython",
    "version": 3
   },
   "file_extension": ".py",
   "mimetype": "text/x-python",
   "name": "python",
   "nbconvert_exporter": "python",
   "pygments_lexer": "ipython3",
   "version": "3.7.3"
  }
 },
 "nbformat": 4,
 "nbformat_minor": 2
}
