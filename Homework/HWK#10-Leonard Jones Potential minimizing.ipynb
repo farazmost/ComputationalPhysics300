{
 "cells": [
  {
   "cell_type": "markdown",
   "metadata": {},
   "source": [
    "## \"Write a program to find the ground state of LJ potential for N=3 \"\n",
    "$$ V = 4\\epsilon \\big[ \\big(\\frac{\\delta}{r}\\big)^{12} - \\big(\\frac{\\delta}{r}\\big)^{6} \\big]$$\n",
    "\n",
    "where $\\epsilon$ is the depth of the potential well and $\\sigma$ is the distance at which the potential crosses zero, while $r$ is the distance between two atoms."
   ]
  },
  {
   "cell_type": "code",
   "execution_count": 16,
   "metadata": {},
   "outputs": [],
   "source": [
    "import numpy as np\n",
    "def Lj(r):\n",
    "   \n",
    "    r6 = r**6\n",
    "    r12 = r6*r6\n",
    "    return 4*(1/r12 - 1/r6)"
   ]
  },
  {
   "cell_type": "markdown",
   "metadata": {},
   "source": [
    "To find how many interatomic interaction there will exist with N=3, We choose 2 from 3 and get a total of 3 interactions, therefore, ideally, we have 3 of the Leonard-Jones potential interactions. So we now create a function where the total Leonard-Jones interactions will be calculated by adding the individual interactions:"
   ]
  },
  {
   "cell_type": "code",
   "execution_count": 17,
   "metadata": {},
   "outputs": [],
   "source": [
    "def LjTotal(positions):\n",
    "    Energy=0\n",
    "    N_atom = int(len(positions)/3)\n",
    "\n",
    "    for i in range(N_atom - 1):\n",
    "        for j in range(i + 1, N_atom):\n",
    "            pos1 = positions[i*3:(i+1)*3]\n",
    "            pos2 = positions[j*3:(j+1)*3]\n",
    "            dist = np.linalg.norm(pos1 - pos2)\n",
    "            Energy = Energy + Lj(dist)\n",
    "            \n",
    "    return Energy"
   ]
  },
  {
   "cell_type": "markdown",
   "metadata": {},
   "source": [
    "Now we create a Random XYZ list of all potential coordinates for our configuration of atoms within a cube of length L"
   ]
  },
  {
   "cell_type": "code",
   "execution_count": 24,
   "metadata": {},
   "outputs": [],
   "source": [
    "def init_pos(N, L=1):\n",
    "    return L*np.random.random_sample((N*3,))"
   ]
  },
  {
   "cell_type": "markdown",
   "metadata": {},
   "source": [
    "Now we test our code for N=3"
   ]
  },
  {
   "cell_type": "code",
   "execution_count": 37,
   "metadata": {},
   "outputs": [
    {
     "name": "stdout",
     "output_type": "stream",
     "text": [
      "This is based on a random coordinate & and will vary upon reruning code\n",
      "For 3 atoms, the total Leonard-jones potential is: 4896.877599281126\n"
     ]
    }
   ],
   "source": [
    "N=3\n",
    "pos = init_pos(N)\n",
    "print('This is based on a random coordinate & and will vary upon reruning code')\n",
    "print(\"For\", N,\"atoms, the total Leonard-jones potential is:\",LjTotal(pos))"
   ]
  },
  {
   "cell_type": "markdown",
   "metadata": {},
   "source": [
    "If we rerun the code multiple times, we get different energy state but we want the GROUND STATE which correlates to the minimum of our TOTAL Leonard-Jones potential. So now we minimize the function using the scipy library:"
   ]
  },
  {
   "cell_type": "code",
   "execution_count": 38,
   "metadata": {},
   "outputs": [
    {
     "name": "stdout",
     "output_type": "stream",
     "text": [
      "Minimizing the Leonard-Jones potential gives a ground energy of:  -2.9999999999832134\n"
     ]
    }
   ],
   "source": [
    "from scipy.optimize import minimize\n",
    "\n",
    "res = minimize(LjTotal, pos, method='CG', tol=1e-4)\n",
    "print(\"Minimizing the Leonard-Jones potential gives a ground energy of: \", res.fun)"
   ]
  },
  {
   "cell_type": "markdown",
   "metadata": {},
   "source": [
    "Using the Cambridge cluster database, we see that for N=3, they have a ground state defined as -3.000"
   ]
  },
  {
   "cell_type": "markdown",
   "metadata": {},
   "source": [
    "## \"Try different minimization methods in scipy on larger systems ($N$ up to 20)\""
   ]
  },
  {
   "cell_type": "markdown",
   "metadata": {},
   "source": [
    "lets try our code again from a random coordinate, now for N=20"
   ]
  },
  {
   "cell_type": "code",
   "execution_count": 46,
   "metadata": {},
   "outputs": [
    {
     "name": "stdout",
     "output_type": "stream",
     "text": [
      "This is based on a random coordinate & and will vary upon reruning code\n",
      "For 15 atoms, the total Leonard-jones potential is: 40288.951738208416\n"
     ]
    }
   ],
   "source": [
    "N=15\n",
    "pos = init_pos(N)\n",
    "print('This is based on a random coordinate & and will vary upon reruning code')\n",
    "print(\"For\", N,\"atoms, the total Leonard-jones potential is:\",LjTotal(pos))"
   ]
  },
  {
   "cell_type": "markdown",
   "metadata": {},
   "source": [
    "Let us minimize the funtion now for (N=20)"
   ]
  },
  {
   "cell_type": "code",
   "execution_count": 47,
   "metadata": {},
   "outputs": [
    {
     "name": "stdout",
     "output_type": "stream",
     "text": [
      "Minimizing the Leonard-Jones potential gives a ground energy of:  -50.874764531493625\n"
     ]
    }
   ],
   "source": [
    "N=15\n",
    "pos = init_pos(N)\n",
    "res = minimize(LjTotal, pos, method='CG', tol=1e-4)\n",
    "print(\"Minimizing the Leonard-Jones potential gives a ground energy of: \", res.fun)"
   ]
  },
  {
   "cell_type": "markdown",
   "metadata": {},
   "source": [
    "Using the Cambridge cluster database, we see that for N=15, they have a ground state defined as \n",
    "-52.322627 so it is likely that the minimizing function is going towards a basin."
   ]
  },
  {
   "cell_type": "markdown",
   "metadata": {},
   "source": [
    "A work around this problem to run this test multiple times with different random start points, thereafter, compare each result multiple times tot find the global minimum rather than a local Min:"
   ]
  },
  {
   "cell_type": "code",
   "execution_count": 49,
   "metadata": {},
   "outputs": [
    {
     "name": "stdout",
     "output_type": "stream",
     "text": [
      "RUN 29 OUT OF 30: Total Energy = -39.7171Ground state energy: -51.37264608392404\n",
      "Total calculation time: 477 sec\n"
     ]
    }
   ],
   "source": [
    "import time\n",
    "\n",
    "f_values = []\n",
    "x_values = []\n",
    "N_attempts = 30\n",
    "\n",
    "t0 = time.perf_counter() # time start\n",
    "for i in range(N_attempts):\n",
    "    pos = init_pos(N)\n",
    "    res = minimize(LjTotal, pos, method='CG', tol=1e-4)\n",
    "    f_values.append(res.fun)\n",
    "    x_values.append(res.x)\n",
    "    print('\\rRUN {:d} OUT OF {:d}: Total Energy = {:.4f}'.format(i, N_attempts, res.fun), flush=True, end='')\n",
    "t1 = time.perf_counter() # time end\n",
    "time = t1 - t0\n",
    "    \n",
    "print('Ground state energy:', min(f_values))\n",
    "print(\"Total calculation time: {:.0f} sec\".format(time, ))"
   ]
  },
  {
   "cell_type": "code",
   "execution_count": 52,
   "metadata": {},
   "outputs": [
    {
     "data": {
      "image/png": "[encoded data removed]",
      "text/plain": [
       "<Figure size 576x432 with 1 Axes>"
      ]
     },
     "metadata": {
      "needs_background": "light"
     },
     "output_type": "display_data"
    }
   ],
   "source": [
    "%matplotlib inline\n",
    "import matplotlib.pyplot as plt\n",
    "\n",
    "plt.figure(figsize=[8,6])\n",
    "plt.title('LJ cluster:'+ str(N_attempts)+ ' trials (N = ' + str(N)+' atoms)')\n",
    "plt.hist(f_values, N_attempts)\n",
    "plt.xlabel(\"Energy\")\n",
    "plt.ylabel(\"Frequency\")\n",
    "plt.show()"
   ]
  },
  {
   "cell_type": "code",
   "execution_count": null,
   "metadata": {},
   "outputs": [],
   "source": []
  }
 ],
 "metadata": {
  "kernelspec": {
   "display_name": "Python 3",
   "language": "python",
   "name": "python3"
  },
  "language_info": {
   "codemirror_mode": {
    "name": "ipython",
    "version": 3
   },
   "file_extension": ".py",
   "mimetype": "text/x-python",
   "name": "python",
   "nbconvert_exporter": "python",
   "pygments_lexer": "ipython3",
   "version": "3.7.3"
  }
 },
 "nbformat": 4,
 "nbformat_minor": 2
}
