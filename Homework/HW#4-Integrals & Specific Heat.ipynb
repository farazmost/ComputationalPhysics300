{
 "cells": [
  {
   "cell_type": "markdown",
   "metadata": {},
   "source": [
    "Intergral of F(x) using rectangular, trapiziodal, and Simpson's method to approximate the integration:\n",
    "$$\\int_0^3 (x^2-x+1 dx)$$"
   ]
  },
  {
   "cell_type": "markdown",
   "metadata": {},
   "source": [
    "Integral:"
   ]
  },
  {
   "cell_type": "code",
   "execution_count": 3,
   "metadata": {},
   "outputs": [
    {
     "name": "stdout",
     "output_type": "stream",
     "text": [
      "The Intergal with the rect method is: 7.5004500450044915\n",
      "The Intergal with the trap method is: 7.500450045004515\n",
      "The Intergal with the simp method is: 7.500650075007504\n"
     ]
    }
   ],
   "source": [
    "import numpy as np\n",
    "import matplotlib.pyplot as plt\n",
    "import math\n",
    "\n",
    "f = lambda x: x**2-x+1\n",
    "\n",
    "def Integral1(start, end, parts, method='rect'):\n",
    "    deltax= (end - start)/parts\n",
    "    x = np.linspace(start, end, parts)\n",
    "    y = f(x)\n",
    "    A = np.zeros([parts])\n",
    "\n",
    "    if method == 'rect':\n",
    "        for i in range(parts):\n",
    "            A[i]= y[i]* deltax\n",
    "        return(sum(A))\n",
    "    if method == 'trap':\n",
    "        for i in range(parts):\n",
    "            A[i]= (y[i-1] +y[i])*deltax/2\n",
    "        return(sum(A))\n",
    "    if method == 'simp':\n",
    "        for i in range(parts):\n",
    "            if i == 0 or i == parts:\n",
    "                coef = 1/3\n",
    "            elif i%2 == 1:\n",
    "                coef = 4/3\n",
    "            else: \n",
    "                coef = 2/3\n",
    "            A[i] = coef*y[i]*deltax\n",
    "        return(sum(A))\n",
    "for method in ['rect', 'trap','simp']:\n",
    "    print ('The Intergal with the', method, 'method is:', Integral1(0,3,10000,method=method))\n",
    "\n"
   ]
  },
  {
   "cell_type": "markdown",
   "metadata": {},
   "source": [
    "For this integral, atleast 3 points are needed for the simpson method to satisfy the quadratic function."
   ]
  },
  {
   "cell_type": "markdown",
   "metadata": {},
   "source": [
    "Intergral of F(x) using rectangular, trapiziodal, and Simpson's method to approximate the integration:\n",
    "$$\\int_0^3 (x^4-x+1 dx)$$"
   ]
  },
  {
   "cell_type": "markdown",
   "metadata": {},
   "source": [
    "Integral:"
   ]
  },
  {
   "cell_type": "code",
   "execution_count": 4,
   "metadata": {},
   "outputs": [
    {
     "name": "stdout",
     "output_type": "stream",
     "text": [
      "The Intergal with the rect method is: 47.10072900810016\n",
      "The Intergal with the trap method is: 47.10072900809992\n",
      "The Intergal with the simp method is: 47.10110901605002\n"
     ]
    }
   ],
   "source": [
    "import numpy as np\n",
    "import matplotlib.pyplot as plt\n",
    "import math\n",
    "\n",
    "f = lambda x: x**4-x+1\n",
    "\n",
    "def Integral2(start, end, parts, method='rect'):\n",
    "    deltax= (end - start)/parts\n",
    "    x = np.linspace(start, end, parts)\n",
    "    y = f(x)\n",
    "    A = np.zeros([parts])\n",
    "\n",
    "    if method == 'rect':\n",
    "        for i in range(parts):\n",
    "            A[i]= y[i]* deltax\n",
    "        return(sum(A))\n",
    "    if method == 'trap':\n",
    "        for i in range(parts):\n",
    "            A[i]= (y[i-1] +y[i])*deltax/2\n",
    "        return(sum(A))\n",
    "    if method == 'simp':\n",
    "        for i in range(parts):\n",
    "            if i == 0 or i == parts:\n",
    "                coef = 1/3\n",
    "            elif i%2 == 1:\n",
    "                coef = 4/3\n",
    "            else: \n",
    "                coef = 2/3\n",
    "            A[i] = coef*y[i]*deltax\n",
    "        return(sum(A))\n",
    "for method in ['rect', 'trap','simp']:\n",
    "    print ('The Intergal with the', method, 'method is:', Integral2(0,3,100000,method=method))\n",
    "\n"
   ]
  },
  {
   "cell_type": "markdown",
   "metadata": {},
   "source": [
    "Intergral of F(x) using rectangular, trapiziodal, and Simpson's method to approximate the integration:\n",
    "$$\\int_0^3 \\text{exp}(-x^2) dx$$"
   ]
  },
  {
   "cell_type": "markdown",
   "metadata": {},
   "source": [
    "Integral:"
   ]
  },
  {
   "cell_type": "code",
   "execution_count": 5,
   "metadata": {},
   "outputs": [
    {
     "name": "stdout",
     "output_type": "stream",
     "text": [
      "The Intergal with the rect method is: 0.8862134880371361\n",
      "The Intergal with the trap method is: 0.886213488037151\n",
      "The Intergal with the simp method is: 0.8861984886541128\n"
     ]
    }
   ],
   "source": [
    "import numpy as np\n",
    "import matplotlib.pyplot as plt\n",
    "import math\n",
    "\n",
    "f = lambda x: math.e**((-1)*(x**2))\n",
    "\n",
    "def Integral3(start, end, parts, method='rect'):\n",
    "    deltax= (end - start)/parts\n",
    "    x = np.linspace(start, end, parts)\n",
    "    y = f(x)\n",
    "    A = np.zeros([parts])\n",
    "\n",
    "    if method == 'rect':\n",
    "        for i in range(parts):\n",
    "            A[i]= y[i]* deltax\n",
    "        return(sum(A))\n",
    "    if method == 'trap':\n",
    "        for i in range(parts):\n",
    "            A[i]= (y[i-1] +y[i])*deltax/2\n",
    "        return(sum(A))\n",
    "    if method == 'simp':\n",
    "        for i in range(parts):\n",
    "            if i == 0 or i == parts:\n",
    "                coef = 1/3\n",
    "            elif i%2 == 1:\n",
    "                coef = 4/3\n",
    "            else: \n",
    "                coef = 2/3\n",
    "            A[i] = coef*y[i]*deltax\n",
    "        return(sum(A))\n",
    "for method in ['rect', 'trap','simp']:\n",
    "    print ('The Intergal with the', method, 'method is:', Integral3(0,3,100000,method=method))\n",
    "\n",
    "\n"
   ]
  },
  {
   "cell_type": "code",
   "execution_count": null,
   "metadata": {},
   "outputs": [],
   "source": []
  },
  {
   "cell_type": "code",
   "execution_count": null,
   "metadata": {},
   "outputs": [],
   "source": []
  },
  {
   "cell_type": "code",
   "execution_count": null,
   "metadata": {},
   "outputs": [],
   "source": []
  },
  {
   "cell_type": "markdown",
   "metadata": {},
   "source": [
    "<font size=\"8\">Heat capacity of a solid</font>"
   ]
  },
  {
   "cell_type": "code",
   "execution_count": 21,
   "metadata": {},
   "outputs": [
    {
     "data": {
      "image/png": "[encoded data removed]",
      "text/plain": [
       "<Figure size 1080x432 with 1 Axes>"
      ]
     },
     "metadata": {
      "needs_background": "light"
     },
     "output_type": "display_data"
    }
   ],
   "source": [
    "import numpy as np\n",
    "import matplotlib.pyplot as plt\n",
    "import math\n",
    "\n",
    "k = 1.38064852e-23\n",
    "V = .001\n",
    "p = 6.022e28\n",
    "t = 428\n",
    "def Integral0(start, end, parts):\n",
    "    deltax= (end - start)/parts\n",
    "    f = lambda x: 10**(np.log10((x**4)*((math.e)**x)) - (2*np.log10(((math.e)**x)-1)))\n",
    "    x = np.linspace(start, end, parts)\n",
    "    x[0] = .00000000001\n",
    "    y = f(x)\n",
    "    \n",
    "    A = np.zeros([parts],object)\n",
    "    for i in range(parts):\n",
    "        if i == 0 or i == parts:\n",
    "            coef = 1/3\n",
    "        elif i%2 == 1:\n",
    "            coef = 4/3\n",
    "        else: \n",
    "            coef = 2/3\n",
    "        A[i] = coef*y[i]*deltax\n",
    "    return(sum(A))\n",
    "\n",
    "def heatcap(T, V, p, t ):\n",
    "    C = ((9*V*p*k*(T/t)**3)* Integral0(0,t/T,1000))\n",
    "    return (C)\n",
    "#print(heatcap(,V ,p,t))\n",
    "yplot=[]\n",
    "xplot = np.linspace(5,500,1000)\n",
    "for j in range(len(xplot)):\n",
    "    yplot.append(heatcap(xplot[j], V, p, t))\n",
    "\n",
    "    \n",
    "plt.figure(figsize=(15, 6))\n",
    "fig = plt.plot(xplot,yplot)\n",
    "plt.autoscale(enable=True, axis='both', tight=None)\n",
    "plt.title('Heat Capacity of Aluminum VS Temperature')\n",
    "plt.xlabel('$T$ (K)')\n",
    "plt.ylabel('$C_V$ (J/K)')\n",
    "\n",
    "plt.show()\n",
    "\n",
    "\n",
    "\n"
   ]
  },
  {
   "cell_type": "code",
   "execution_count": null,
   "metadata": {},
   "outputs": [],
   "source": []
  },
  {
   "cell_type": "code",
   "execution_count": null,
   "metadata": {},
   "outputs": [],
   "source": []
  },
  {
   "cell_type": "code",
   "execution_count": null,
   "metadata": {},
   "outputs": [],
   "source": []
  },
  {
   "cell_type": "code",
   "execution_count": null,
   "metadata": {},
   "outputs": [],
   "source": []
  },
  {
   "cell_type": "code",
   "execution_count": null,
   "metadata": {},
   "outputs": [],
   "source": []
  }
 ],
 "metadata": {
  "kernelspec": {
   "display_name": "Python 3",
   "language": "python",
   "name": "python3"
  },
  "language_info": {
   "codemirror_mode": {
    "name": "ipython",
    "version": 3
   },
   "file_extension": ".py",
   "mimetype": "text/x-python",
   "name": "python",
   "nbconvert_exporter": "python",
   "pygments_lexer": "ipython3",
   "version": "3.7.3"
  }
 },
 "nbformat": 4,
 "nbformat_minor": 2
}
