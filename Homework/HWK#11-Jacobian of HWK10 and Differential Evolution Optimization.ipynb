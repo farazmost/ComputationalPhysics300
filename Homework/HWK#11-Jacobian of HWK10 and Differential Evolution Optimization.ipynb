{
 "cells": [
  {
   "cell_type": "markdown",
   "metadata": {},
   "source": [
    "# Recap on previous hwk's functions defined:"
   ]
  },
  {
   "cell_type": "code",
   "execution_count": 19,
   "metadata": {},
   "outputs": [],
   "source": [
    "import numpy as np\n",
    "def Lj(r):\n",
    "   \n",
    "    r6 = r**6\n",
    "    r12 = r6*r6\n",
    "    return 4*(1/r12 - 1/r6)\n",
    "\n",
    "def LjTotal(positions):\n",
    "    Energy=0\n",
    "    N_atom = int(len(positions)/3)\n",
    "\n",
    "    for i in range(N_atom - 1):\n",
    "        for j in range(i + 1, N_atom):\n",
    "            pos1 = positions[i*3:(i+1)*3]\n",
    "            pos2 = positions[j*3:(j+1)*3]\n",
    "            dist = np.linalg.norm(pos1 - pos2)\n",
    "            Energy = Energy + Lj(dist)\n",
    "            \n",
    "    return Energy\n",
    "def init_pos(N, L=1):\n",
    "    return L*np.random.random_sample((N*3,))"
   ]
  },
  {
   "cell_type": "markdown",
   "metadata": {},
   "source": [
    "## Jacobian for the Leonard-Jones Potiential:\n",
    "In the previous HWK, we allowed the minimize fucntion of SciPy to numerically calculate the gradient of our function based on its variables (the x,y,z positions of our atoms). This comes with a computational cost and should be utilized when the Jacobian (gradient at each point) cant be found analytically. Now we try to derive the analytical solution for the jacobian of the Leonard-Jones potential\n",
    "The Jacobian can be defined as:\n",
    "\n",
    "$$ \\mathbf J = \\left[ \\begin{array} { c c c } { \\frac { \\partial f } { \\partial x _ { 1 } } } & { \\cdots } & { \\frac { \\partial f } { \\partial x _ { n } } } \\end{array} \\right]$$"
   ]
  },
  {
   "cell_type": "markdown",
   "metadata": {},
   "source": [
    "As we can see in our code above for the total Leonard-Jones potential, We add each two coupled paired of atom's Leonard-Jones Potentials for a total, This depends on the x,y,z of each atom leading our Energy Function to be:\n",
    "$$ E(x_1, y_1, z_1, ..., x_n, y_n, z_n) = \\sum_{i=1}^{N-1}\\sum_{j=2}^{N}V(r_{ij})$$\n",
    "where we defined $ r_{ij} $ as the distance between two atoms in space:\n",
    "$$ r_{ij} = \\sqrt{(x_i - x_j)^2 + (y_i - y_j)^2 + (z_i - z_j)^2} $$"
   ]
  },
  {
   "cell_type": "markdown",
   "metadata": {},
   "source": [
    "Now we calculate $ \\mathbf J $ for a given as $x_{i}$ point from our coordinate set, (note this $x_{i}$ is different from our dummy counter 'i' variable in the sigma below):\n",
    "\n",
    "$$ \\mathbf J_i = \\frac{\\partial E}{\\partial x_i} = \\sum_{j=2}^{N}\\frac{\\partial V(r_{ij})}{\\partial r_{ij}}\\frac{\\partial r_{ij}}{\\partial x_i} $$\n",
    "\n"
   ]
  },
  {
   "cell_type": "markdown",
   "metadata": {},
   "source": [
    "where $ \\frac{\\partial r_{ij}}{\\partial x_i}$ is:\n",
    "$$ \\frac{\\partial r_{ij}}{\\partial x_i} = \\frac{x_i- x_j}{r_{ij}}  $$\n",
    "and $ \\frac{\\partial V(r_{ij})}{\\partial r_{ij}}$ is:\n",
    "$$ \\frac{\\partial V(r_{ij})}{\\partial r_{ij}} = 24 \\left( \\frac{1}{r^7} - \\frac{2}{r^{13}} \\right)  $$\n"
   ]
  },
  {
   "cell_type": "markdown",
   "metadata": {},
   "source": [
    "So now for every $x_{i}$ point in our coordiante set, we can define the analytical Jacobian as:\n",
    "$$ \\mathbf J_i = \\frac{\\partial E}{\\partial x_i} = \\sum_{i=1}^{N-1}\\sum_{j=2}^{N} \\left( \\frac{24}{r_{ij}^7} - \\frac{48}{r_{ij}^{13}} \\right)\\frac{x_i - x_j}{r_{ij}} $$\n",
    "or to simplify for our code:\n",
    "$$ \\mathbf J_i = \\frac{\\partial E}{\\partial x_i} = \\sum_{i=1}^{N-1}\\sum_{j=2}^{N} \\left( \\frac{24}{r_{ij}^8} - \\frac{48}{r_{ij}^{14}} \\right)\\frac{x_i - x_j}{1} $$\n",
    "### Note: Help and understanding for the jacobian code was provided by Dean and others in class  and with respect to the professors code"
   ]
  },
  {
   "cell_type": "code",
   "execution_count": 20,
   "metadata": {},
   "outputs": [],
   "source": [
    "\"We first define our first derivative with respect to r  \"\n",
    "def dLJ(r):\n",
    "    \n",
    "    r7 = r**7\n",
    "    r13 = r7**5\n",
    "    return 24*(1/r7 - 2/r13)\n",
    "\n",
    "\n",
    "\"Now we input our coordinate set, to find each repective Jacobian at that point\"\n",
    "def dLJdr(positions, dim = 3):\n",
    "   \n",
    "    N_atom = int(len(pos)/dim)\n",
    "    \n",
    "    F = np.zeros([N_atom, dim]) \n",
    "    \n",
    "    for i in range(N_atom): # loop over each atom\n",
    "        center_atom = positions[3*i:(3*i)+3]\n",
    "        for j in range(N_atom): # loop over each neighboring atom\n",
    "            neighbor_atom = positions[3*j:(3*j)+3] \n",
    "            if not any(center_atom == neighbor_atom): # ensures that center atom isn't its own neighbour (returns true if false)\n",
    "                r = np.linalg.norm(center_atom-neighbor_atom) # find the radial distance between center atom and neighbor  \n",
    "                tmp =  -48/r**14 + 24/r**8 \n",
    "                Fxyz =  tmp * (center_atom-neighbor_atom) # calculate the force in x,y,z directions\n",
    "                F[i] += Fxyz  # for all neighbors j, sum x,y,z forces\n",
    "    \"\"\"\n",
    "    'tmp' is the dV/dr while the 'center_atom-neighbor_atom' calculates the rest of our jacobian at each\n",
    "    point of (x1, y1, z1, ... , xn, yn, zn)\n",
    "    \"\"\"\n",
    "    return F.flatten()"
   ]
  },
  {
   "cell_type": "code",
   "execution_count": 21,
   "metadata": {},
   "outputs": [
    {
     "name": "stdout",
     "output_type": "stream",
     "text": [
      "RUN 99 OUT OF 99: Total Energy = -6.0000\n",
      "Ground state energy: -5.999999999999998\n",
      "Total calculation time:  1.8443312090000745 sec\n"
     ]
    }
   ],
   "source": [
    "import time\n",
    "from scipy.optimize import minimize\n",
    "\n",
    "N = 4\n",
    "f_values = []\n",
    "pos_values =[]\n",
    "N_runs = 100\n",
    "\n",
    "t0 = time.perf_counter()\n",
    "for i in range(N_runs):\n",
    "    pos = init_pos(4)\n",
    "    res = minimize(LjTotal, pos,jac=dLJdr, method='CG', tol=1e-4)\n",
    "    #res = minimize(LjTotal, pos,jac=dLJdr, method='CG', tol=1e-4)\n",
    "    f_values.append(res.fun)\n",
    "    pos_values.append(res.x)\n",
    "    print('\\rRUN {:d} OUT OF {:d}: Total Energy = {:.4f}'.format(i, N_runs-1, res.fun), flush=True, end='')\n",
    "t1 = time.perf_counter() # time end\n",
    "time = t1 - t0\n",
    "    \n",
    "print('\\nGround state energy:', min(f_values))\n",
    "print(\"Total calculation time: \",time, \"sec\")"
   ]
  },
  {
   "cell_type": "markdown",
   "metadata": {},
   "source": [
    "# Attempt at optimizing using the Evolution model :\n",
    "Based on the documentation at https://docs.scipy.org/doc/scipy/reference/generated/scipy.optimize.differential_evolution.html#scipy.optimize.differential_evolution\n",
    "\n",
    "the differential_evolution function optimizes the LJTotal function below based on the cooridnate set of points as an input (position values for each atom ). The function requires a (min, max) bounds where each point is availiable to vary under. Based on our Init_pos function above, we defined out points (x,y,z) for each atom to be within a 1x1x1 box (L=1) above. So below, I defined the bounds for each bound to vary from (0,1) as a range where each coordinate can vary within. "
   ]
  },
  {
   "cell_type": "code",
   "execution_count": 22,
   "metadata": {},
   "outputs": [
    {
     "ename": "RuntimeError",
     "evalue": "The map-like callable must be of the form f(func, iterable), returning a sequence of numbers the same length as 'iterable'",
     "output_type": "error",
     "traceback": [
      "\u001b[0;31m---------------------------------------------------------------------------\u001b[0m",
      "\u001b[0;31mTypeError\u001b[0m                                 Traceback (most recent call last)",
      "\u001b[0;32m~/anaconda3/lib/python3.7/site-packages/scipy/optimize/_differentialevolution.py\u001b[0m in \u001b[0;36m_calculate_population_energies\u001b[0;34m(self, population)\u001b[0m\n\u001b[1;32m    788\u001b[0m             calc_energies = list(self._mapwrapper(self.func,\n\u001b[0;32m--> 789\u001b[0;31m                                                   parameters_pop[0:nfevs]))\n\u001b[0m\u001b[1;32m    790\u001b[0m             \u001b[0menergies\u001b[0m\u001b[0;34m[\u001b[0m\u001b[0;36m0\u001b[0m\u001b[0;34m:\u001b[0m\u001b[0mnfevs\u001b[0m\u001b[0;34m]\u001b[0m \u001b[0;34m=\u001b[0m \u001b[0mcalc_energies\u001b[0m\u001b[0;34m\u001b[0m\u001b[0;34m\u001b[0m\u001b[0m\n",
      "\u001b[0;32m~/anaconda3/lib/python3.7/site-packages/scipy/optimize/_differentialevolution.py\u001b[0m in \u001b[0;36m__call__\u001b[0;34m(self, x)\u001b[0m\n\u001b[1;32m   1027\u001b[0m     \u001b[0;32mdef\u001b[0m \u001b[0m__call__\u001b[0m\u001b[0;34m(\u001b[0m\u001b[0mself\u001b[0m\u001b[0;34m,\u001b[0m \u001b[0mx\u001b[0m\u001b[0;34m)\u001b[0m\u001b[0;34m:\u001b[0m\u001b[0;34m\u001b[0m\u001b[0;34m\u001b[0m\u001b[0m\n\u001b[0;32m-> 1028\u001b[0;31m         \u001b[0;32mreturn\u001b[0m \u001b[0mself\u001b[0m\u001b[0;34m.\u001b[0m\u001b[0mf\u001b[0m\u001b[0;34m(\u001b[0m\u001b[0mx\u001b[0m\u001b[0;34m,\u001b[0m \u001b[0;34m*\u001b[0m\u001b[0mself\u001b[0m\u001b[0;34m.\u001b[0m\u001b[0margs\u001b[0m\u001b[0;34m)\u001b[0m\u001b[0;34m\u001b[0m\u001b[0;34m\u001b[0m\u001b[0m\n\u001b[0m",
      "\u001b[0;31mTypeError\u001b[0m: LjTotal() takes 1 positional argument but 10 were given",
      "\nDuring handling of the above exception, another exception occurred:\n",
      "\u001b[0;31mRuntimeError\u001b[0m                              Traceback (most recent call last)",
      "\u001b[0;32m<ipython-input-22-67bfa181c339>\u001b[0m in \u001b[0;36m<module>\u001b[0;34m\u001b[0m\n\u001b[1;32m      9\u001b[0m \u001b[0;34m\u001b[0m\u001b[0m\n\u001b[1;32m     10\u001b[0m \u001b[0mpos\u001b[0m \u001b[0;34m=\u001b[0m \u001b[0minit_pos\u001b[0m\u001b[0;34m(\u001b[0m\u001b[0mN\u001b[0m\u001b[0;34m)\u001b[0m\u001b[0;34m\u001b[0m\u001b[0;34m\u001b[0m\u001b[0m\n\u001b[0;32m---> 11\u001b[0;31m \u001b[0mresult\u001b[0m \u001b[0;34m=\u001b[0m \u001b[0mdifferential_evolution\u001b[0m\u001b[0;34m(\u001b[0m\u001b[0mLjTotal\u001b[0m\u001b[0;34m,\u001b[0m\u001b[0mbounds\u001b[0m\u001b[0;34m,\u001b[0m\u001b[0margs\u001b[0m\u001b[0;34m=\u001b[0m\u001b[0mpos\u001b[0m\u001b[0;34m)\u001b[0m\u001b[0;34m\u001b[0m\u001b[0;34m\u001b[0m\u001b[0m\n\u001b[0m\u001b[1;32m     12\u001b[0m \u001b[0;34m\u001b[0m\u001b[0m\n\u001b[1;32m     13\u001b[0m \u001b[0mresult\u001b[0m\u001b[0;34m.\u001b[0m\u001b[0mfun\u001b[0m\u001b[0;34m\u001b[0m\u001b[0;34m\u001b[0m\u001b[0m\n",
      "\u001b[0;32m~/anaconda3/lib/python3.7/site-packages/scipy/optimize/_differentialevolution.py\u001b[0m in \u001b[0;36mdifferential_evolution\u001b[0;34m(func, bounds, args, strategy, maxiter, popsize, tol, mutation, recombination, seed, callback, disp, polish, init, atol, updating, workers)\u001b[0m\n\u001b[1;32m    274\u001b[0m                                      \u001b[0mupdating\u001b[0m\u001b[0;34m=\u001b[0m\u001b[0mupdating\u001b[0m\u001b[0;34m,\u001b[0m\u001b[0;34m\u001b[0m\u001b[0;34m\u001b[0m\u001b[0m\n\u001b[1;32m    275\u001b[0m                                      workers=workers) as solver:\n\u001b[0;32m--> 276\u001b[0;31m         \u001b[0mret\u001b[0m \u001b[0;34m=\u001b[0m \u001b[0msolver\u001b[0m\u001b[0;34m.\u001b[0m\u001b[0msolve\u001b[0m\u001b[0;34m(\u001b[0m\u001b[0;34m)\u001b[0m\u001b[0;34m\u001b[0m\u001b[0;34m\u001b[0m\u001b[0m\n\u001b[0m\u001b[1;32m    277\u001b[0m \u001b[0;34m\u001b[0m\u001b[0m\n\u001b[1;32m    278\u001b[0m     \u001b[0;32mreturn\u001b[0m \u001b[0mret\u001b[0m\u001b[0;34m\u001b[0m\u001b[0;34m\u001b[0m\u001b[0m\n",
      "\u001b[0;32m~/anaconda3/lib/python3.7/site-packages/scipy/optimize/_differentialevolution.py\u001b[0m in \u001b[0;36msolve\u001b[0;34m(self)\u001b[0m\n\u001b[1;32m    686\u001b[0m         \u001b[0;32mif\u001b[0m \u001b[0mnp\u001b[0m\u001b[0;34m.\u001b[0m\u001b[0mall\u001b[0m\u001b[0;34m(\u001b[0m\u001b[0mnp\u001b[0m\u001b[0;34m.\u001b[0m\u001b[0misinf\u001b[0m\u001b[0;34m(\u001b[0m\u001b[0mself\u001b[0m\u001b[0;34m.\u001b[0m\u001b[0mpopulation_energies\u001b[0m\u001b[0;34m)\u001b[0m\u001b[0;34m)\u001b[0m\u001b[0;34m:\u001b[0m\u001b[0;34m\u001b[0m\u001b[0;34m\u001b[0m\u001b[0m\n\u001b[1;32m    687\u001b[0m             self.population_energies[:] = self._calculate_population_energies(\n\u001b[0;32m--> 688\u001b[0;31m                 self.population)\n\u001b[0m\u001b[1;32m    689\u001b[0m             \u001b[0mself\u001b[0m\u001b[0;34m.\u001b[0m\u001b[0m_promote_lowest_energy\u001b[0m\u001b[0;34m(\u001b[0m\u001b[0;34m)\u001b[0m\u001b[0;34m\u001b[0m\u001b[0;34m\u001b[0m\u001b[0m\n\u001b[1;32m    690\u001b[0m \u001b[0;34m\u001b[0m\u001b[0m\n",
      "\u001b[0;32m~/anaconda3/lib/python3.7/site-packages/scipy/optimize/_differentialevolution.py\u001b[0m in \u001b[0;36m_calculate_population_energies\u001b[0;34m(self, population)\u001b[0m\n\u001b[1;32m    792\u001b[0m             \u001b[0;31m# wrong number of arguments for _mapwrapper\u001b[0m\u001b[0;34m\u001b[0m\u001b[0;34m\u001b[0m\u001b[0;34m\u001b[0m\u001b[0m\n\u001b[1;32m    793\u001b[0m             \u001b[0;31m# or wrong length returned from the mapper\u001b[0m\u001b[0;34m\u001b[0m\u001b[0;34m\u001b[0m\u001b[0;34m\u001b[0m\u001b[0m\n\u001b[0;32m--> 794\u001b[0;31m             raise RuntimeError(\"The map-like callable must be of the\"\n\u001b[0m\u001b[1;32m    795\u001b[0m                                \u001b[0;34m\" form f(func, iterable), returning a sequence\"\u001b[0m\u001b[0;34m\u001b[0m\u001b[0;34m\u001b[0m\u001b[0m\n\u001b[1;32m    796\u001b[0m                                \" of numbers the same length as 'iterable'\")\n",
      "\u001b[0;31mRuntimeError\u001b[0m: The map-like callable must be of the form f(func, iterable), returning a sequence of numbers the same length as 'iterable'"
     ]
    }
   ],
   "source": [
    "from scipy.optimize import differential_evolution\n",
    "N=3\n",
    "bounds=[]\n",
    "for i in range(N):\n",
    "    bounds.append((0,1))\n",
    "\n",
    "def init_pos(N, L=1):\n",
    "    return L*np.random.random_sample((N*3,))\n",
    "\n",
    "pos = init_pos(N)\n",
    "result = differential_evolution(LjTotal,bounds,args=pos)\n",
    "\n",
    "result.fun"
   ]
  },
  {
   "cell_type": "code",
   "execution_count": null,
   "metadata": {},
   "outputs": [],
   "source": []
  },
  {
   "cell_type": "code",
   "execution_count": null,
   "metadata": {},
   "outputs": [],
   "source": []
  },
  {
   "cell_type": "code",
   "execution_count": null,
   "metadata": {},
   "outputs": [],
   "source": []
  },
  {
   "cell_type": "code",
   "execution_count": null,
   "metadata": {},
   "outputs": [],
   "source": []
  }
 ],
 "metadata": {
  "kernelspec": {
   "display_name": "Python 3",
   "language": "python",
   "name": "python3"
  },
  "language_info": {
   "codemirror_mode": {
    "name": "ipython",
    "version": 3
   },
   "file_extension": ".py",
   "mimetype": "text/x-python",
   "name": "python",
   "nbconvert_exporter": "python",
   "pygments_lexer": "ipython3",
   "version": "3.7.3"
  }
 },
 "nbformat": 4,
 "nbformat_minor": 2
}
